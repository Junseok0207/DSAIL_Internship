{
 "cells": [
  {
   "cell_type": "code",
   "execution_count": 190,
   "metadata": {},
   "outputs": [],
   "source": [
    "import torch\n",
    "import torch.nn as nn\n",
    "from torch.nn import Embedding\n",
    "from torch.utils.data import DataLoader\n",
    "from torch_sparse import SparseTensor\n",
    "from sklearn.linear_model import LogisticRegression\n",
    "import torch_cluster\n",
    "\n",
    "from torch_geometric.datasets import Planetoid"
   ]
  },
  {
   "cell_type": "code",
   "execution_count": 191,
   "metadata": {},
   "outputs": [],
   "source": [
    "random_walk = torch.ops.torch_cluster.random_walk"
   ]
  },
  {
   "cell_type": "code",
   "execution_count": 192,
   "metadata": {},
   "outputs": [],
   "source": [
    "dataset = Planetoid(root='/tmp/Cora', name='Cora')\n",
    "data = dataset[0]"
   ]
  },
  {
   "cell_type": "code",
   "execution_count": 193,
   "metadata": {},
   "outputs": [
    {
     "data": {
      "text/plain": [
       "Data(edge_index=[2, 10556], test_mask=[2708], train_mask=[2708], val_mask=[2708], x=[2708, 1433], y=[2708])"
      ]
     },
     "execution_count": 193,
     "metadata": {},
     "output_type": "execute_result"
    }
   ],
   "source": [
    "data"
   ]
  },
  {
   "cell_type": "code",
   "execution_count": 194,
   "metadata": {},
   "outputs": [],
   "source": [
    "# sparse Tensor만들기\n",
    "N = data.num_nodes\n",
    "row, col = data.edge_index\n",
    "adj = SparseTensor(row=row, col=col, sparse_sizes=(N,N))"
   ]
  },
  {
   "cell_type": "code",
   "execution_count": 195,
   "metadata": {},
   "outputs": [],
   "source": [
    "# hyperparameter\n",
    "embedding_dim = 128\n",
    "walk_length = 19\n",
    "context_size = 10\n",
    "walks_per_node = 1\n",
    "num_negative_samples=2\n",
    "p=1\n",
    "q=1\n",
    "sparse=True"
   ]
  },
  {
   "cell_type": "code",
   "execution_count": 196,
   "metadata": {},
   "outputs": [
    {
     "data": {
      "text/plain": [
       "2708"
      ]
     },
     "execution_count": 196,
     "metadata": {},
     "output_type": "execute_result"
    }
   ],
   "source": [
    "adj.sparse_size(0)"
   ]
  },
  {
   "cell_type": "code",
   "execution_count": 197,
   "metadata": {},
   "outputs": [],
   "source": [
    "batch = torch.tensor([1,2,3,4,5])"
   ]
  },
  {
   "cell_type": "code",
   "execution_count": 198,
   "metadata": {},
   "outputs": [
    {
     "data": {
      "text/plain": [
       "tensor([1, 2, 3, 4, 5])"
      ]
     },
     "execution_count": 198,
     "metadata": {},
     "output_type": "execute_result"
    }
   ],
   "source": [
    "batch"
   ]
  },
  {
   "cell_type": "code",
   "execution_count": 199,
   "metadata": {},
   "outputs": [],
   "source": [
    "batch = batch.repeat(walks_per_node)\n",
    "rowptr, col, _ = adj.csr()\n",
    "rw = random_walk(rowptr, col, batch, walk_length, p, q)\n",
    "if not isinstance(rw, torch.Tensor):\n",
    "    rw = rw[0]\n",
    "\n",
    "walks = []\n",
    "num_walks_per_rw = walk_length + 1 - context_size + 1\n",
    "for j in range(num_walks_per_rw):\n",
    "    walks.append(rw[:, j:j + context_size])\n",
    "pos_rw = torch.cat(walks, dim=0)"
   ]
  },
  {
   "cell_type": "code",
   "execution_count": 200,
   "metadata": {},
   "outputs": [],
   "source": [
    "batch = batch.repeat(walks_per_node * num_negative_samples)\n",
    "\n",
    "rw = torch.randint(adj.sparse_size(0),\n",
    "                   (batch.size(0), walk_length))\n",
    "rw = torch.cat([batch.view(-1, 1), rw], dim=-1)\n",
    "\n",
    "walks = []\n",
    "num_walks_per_rw = 1 + walk_length + 1 - context_size\n",
    "for j in range(num_walks_per_rw):\n",
    "    walks.append(rw[:, j:j + context_size])\n",
    "neg_rw = torch.cat(walks, dim=0)"
   ]
  },
  {
   "cell_type": "code",
   "execution_count": 201,
   "metadata": {},
   "outputs": [
    {
     "name": "stdout",
     "output_type": "stream",
     "text": [
      "torch.Size([55, 10])\n",
      "torch.Size([110, 10])\n"
     ]
    }
   ],
   "source": [
    "print(pos_rw.size())\n",
    "print(neg_rw.size())"
   ]
  },
  {
   "cell_type": "code",
   "execution_count": null,
   "metadata": {},
   "outputs": [],
   "source": []
  }
 ],
 "metadata": {
  "kernelspec": {
   "display_name": "study2",
   "language": "python",
   "name": "study2"
  },
  "language_info": {
   "codemirror_mode": {
    "name": "ipython",
    "version": 3
   },
   "file_extension": ".py",
   "mimetype": "text/x-python",
   "name": "python",
   "nbconvert_exporter": "python",
   "pygments_lexer": "ipython3",
   "version": "3.8.5"
  }
 },
 "nbformat": 4,
 "nbformat_minor": 4
}
