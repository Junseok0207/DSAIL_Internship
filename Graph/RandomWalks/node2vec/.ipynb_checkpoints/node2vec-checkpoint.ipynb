{
 "cells": [
  {
   "cell_type": "markdown",
   "metadata": {},
   "source": [
    "# Install Packages"
   ]
  },
  {
   "cell_type": "code",
   "execution_count": 1,
   "metadata": {},
   "outputs": [],
   "source": [
    "import torch\n",
    "import torch.nn as nn\n",
    "from torch.nn import Embedding\n",
    "from torch.utils.data import DataLoader\n",
    "from torch_sparse import SparseTensor\n",
    "from sklearn.linear_model import LogisticRegression\n",
    "import torch_cluster\n",
    "\n",
    "from torch_geometric.datasets import Planetoid"
   ]
  },
  {
   "cell_type": "markdown",
   "metadata": {},
   "source": [
    "# Load Dataset"
   ]
  },
  {
   "cell_type": "code",
   "execution_count": 3,
   "metadata": {},
   "outputs": [],
   "source": [
    "dataset = Planetoid(root='/tmp/Cora', name='Cora')\n",
    "data = dataset[0]"
   ]
  },
  {
   "cell_type": "code",
   "execution_count": 19,
   "metadata": {},
   "outputs": [
    {
     "data": {
      "text/plain": [
       "Data(edge_index=[2, 10556], test_mask=[2708], train_mask=[2708], val_mask=[2708], x=[2708, 1433], y=[2708])"
      ]
     },
     "execution_count": 19,
     "metadata": {},
     "output_type": "execute_result"
    }
   ],
   "source": [
    "data"
   ]
  },
  {
   "cell_type": "markdown",
   "metadata": {},
   "source": [
    "# Model"
   ]
  },
  {
   "cell_type": "code",
   "execution_count": null,
   "metadata": {},
   "outputs": [],
   "source": [
    "class Node2Vec(nn.Module):\n",
    "    \"\"\"\n",
    "    Args:\n",
    "        edge_index(LongTensor)\n",
    "        embedding_dim(int)\n",
    "        walk_length(int)\n",
    "        context_size(int) : 윈도우 사이즈\n",
    "        walks_per_node(int, optional)\n",
    "        p (float, optional) : 다시 돌아올 가능도\n",
    "        q (float, optional) : 멀리갈 가능도\n",
    "        num_negative_samples \n",
    "        num_nodes(int, optional)\n",
    "        sparse(bool, optional)\n",
    "    \"\"\"\n",
    "    \n",
    "    def __init__(self, edge_index, embedding_dim, walk_length, context_size,\n",
    "                walks_per_node=1, p=1, q=1, num_negative_samples=1,\n",
    "                num_nodes=None, sparse=False):\n",
    "        super(Node2Vec, self).__init__()\n",
    "        \n",
    "        N = data.num_nodes\n",
    "        row, col = data.edge_index\n",
    "        self.adj = SparseTensor(row=row, col=col, sparse_size=(N,N))\n",
    "        #self.adj = self.adj.to('cpu')\n",
    "        \n",
    "        assert walk_length >= context_size\n",
    "        \n",
    "        self.embedding_dim = embedding_dim\n",
    "        self.walk_length = walk_length - 1\n",
    "        self.context_size = context_size\n",
    "        self.walks_per_node = walks_per_node\n",
    "        self.p = p\n",
    "        self.q = q\n",
    "        self.num_negative_samples = num_negative_samples\n",
    "        \n",
    "        self.embedding = Embedding(N, embedding_dim, sparse=sparse)\n",
    "        \n",
    "        self.reset_parameters()\n",
    "        \n",
    "    def reset_parameters(self):\n",
    "        self.embedding.reset_parameters()\n",
    "        \n",
    "    def forward(self, batch=None):\n",
    "        emb = self.embedding.weight\n",
    "        \n",
    "        return emb if batch is None else emb[batch]\n",
    "    \n",
    "    def loader(self, **kwargs):\n",
    "        return DataLoader(range(self.adj.sparse_size(0)),\n",
    "                         collate_fn=self.sample, **kwargs)\n",
    "    \n",
    "    def pos_sample(self, batch):\n",
    "        batch = batch.repeat(self.walks_per_node) # 한 노드마다 몇번식 출발하는지\n",
    "        rowptr, col, _ = self.adj.csr() # coo방식에서 csr방식으로 변경\n",
    "        rw = random_walk(rowptr, col, batch, self.walk_length, self.p, self.q)\n",
    "        if not isinstance(rw, torch.Tensor):\n",
    "            rw = rw[0]\n",
    "            \n",
    "        walks = []\n",
    "        num_walks_per_rw = 1 + self.walk_length + 1 -self.context_size # randomwalk당 나오는 시퀀스 갯수\n",
    "        for j in range(num_walks_per_rw):\n",
    "            walks.append(rw[ : , j:j + self.context_size])\n",
    "        return torch.cat(walks, dim=0)\n",
    "        \n",
    "    \n",
    "    def neg_sample(self, batch):\n",
    "        \n",
    "        \n",
    "    def sample(self, batch):\n",
    "        if not isinstance(batch, torch.Tensor):\n",
    "            batch = torch.tensor(batch)\n",
    "        return self.pos_sample(batch), self.neg_sample(batch)\n",
    "        \n",
    "    def loss(self, pos_rw, neg_rw):\n",
    "        \n",
    "        # positive loss\n",
    "        start, rest = pos_rw[:, 0], pos_rw[:, 1:].contiguous()\n",
    "        \n",
    "        \n",
    "        \n",
    "        # negative loss\n",
    "        "
   ]
  }
 ],
 "metadata": {
  "kernelspec": {
   "display_name": "study2",
   "language": "python",
   "name": "study2"
  },
  "language_info": {
   "codemirror_mode": {
    "name": "ipython",
    "version": 3
   },
   "file_extension": ".py",
   "mimetype": "text/x-python",
   "name": "python",
   "nbconvert_exporter": "python",
   "pygments_lexer": "ipython3",
   "version": "3.8.5"
  }
 },
 "nbformat": 4,
 "nbformat_minor": 4
}
